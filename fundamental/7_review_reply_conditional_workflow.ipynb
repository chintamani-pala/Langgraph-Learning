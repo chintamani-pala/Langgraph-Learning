{
 "cells": [
  {
   "cell_type": "code",
   "execution_count": 41,
   "id": "106cf6e2",
   "metadata": {},
   "outputs": [],
   "source": [
    "from langgraph.graph import StateGraph, START, END\n",
    "from langchain_google_genai import ChatGoogleGenerativeAI\n",
    "from pydantic import BaseModel, Field\n",
    "from typing import TypedDict, Literal\n",
    "from dotenv import load_dotenv"
   ]
  },
  {
   "cell_type": "code",
   "execution_count": 42,
   "id": "40f5e672",
   "metadata": {},
   "outputs": [
    {
     "data": {
      "text/plain": [
       "True"
      ]
     },
     "execution_count": 42,
     "metadata": {},
     "output_type": "execute_result"
    }
   ],
   "source": [
    "load_dotenv()"
   ]
  },
  {
   "cell_type": "code",
   "execution_count": 43,
   "id": "524a48a7",
   "metadata": {},
   "outputs": [],
   "source": [
    "model = ChatGoogleGenerativeAI(model=\"gemini-1.5-flash\")"
   ]
  },
  {
   "cell_type": "code",
   "execution_count": 44,
   "id": "b514f7d3",
   "metadata": {},
   "outputs": [],
   "source": [
    "class SentimentSchema(BaseModel):\n",
    "    sentiment: Literal[\"positive\", \"negetive\"] = Field(\n",
    "        description=\"Sentiment of the review\"\n",
    "    )"
   ]
  },
  {
   "cell_type": "code",
   "execution_count": null,
   "id": "cbc5d0e3",
   "metadata": {},
   "outputs": [],
   "source": [
    "class DiagnosisSchema(BaseModel):\n",
    "    issue_type: Literal[\"UX\", \"Performance\", \"Bug\", \"Support\", \"Other\"] = Field(\n",
    "        description=\"The category of issue mentioned in the review\"\n",
    "    )\n",
    "    tone: Literal[\"angry\", \"frustrated\", \"disappointed\", \"clam\"] = Field(\n",
    "        description=\"The emotional tone expressed by the user\"\n",
    "    )\n",
    "    urgency: Literal[\"low\", \"medium\", \"high\"] = Field(\n",
    "        description=\"How urgent or critical the issue appears to be\"\n",
    "    )"
   ]
  },
  {
   "cell_type": "code",
   "execution_count": 46,
   "id": "17963979",
   "metadata": {},
   "outputs": [],
   "source": [
    "structured_model = model.with_structured_output(SentimentSchema)"
   ]
  },
  {
   "cell_type": "code",
   "execution_count": 47,
   "id": "c55cbcee",
   "metadata": {},
   "outputs": [],
   "source": [
    "diagnosis_structured_model = model.with_structured_output(DiagnosisSchema)"
   ]
  },
  {
   "cell_type": "code",
   "execution_count": 48,
   "id": "d386412c",
   "metadata": {},
   "outputs": [],
   "source": [
    "# prompt = \"What is the sentiment of the following review \\n The software is very bad\"\n",
    "# structured_model.invoke(prompt).sentiment"
   ]
  },
  {
   "cell_type": "code",
   "execution_count": 49,
   "id": "5d0f4544",
   "metadata": {},
   "outputs": [],
   "source": [
    "class ReviewState(TypedDict):\n",
    "    review: str\n",
    "    sentiment: Literal[\"positive\", \"negetive\"]\n",
    "    diagnosis: dict\n",
    "    response: str"
   ]
  },
  {
   "cell_type": "code",
   "execution_count": 50,
   "id": "d768ec52",
   "metadata": {},
   "outputs": [],
   "source": [
    "def find_sentiment(state: ReviewState):\n",
    "    prompt = f\"For the following review find out the sentiment \\n {state['review']}\"\n",
    "    sentiment = structured_model.invoke(prompt).sentiment\n",
    "    return {\"sentiment\": sentiment}"
   ]
  },
  {
   "cell_type": "code",
   "execution_count": 51,
   "id": "e062e3d6",
   "metadata": {},
   "outputs": [],
   "source": [
    "def check_sentiment(\n",
    "    state: ReviewState,\n",
    ") -> Literal[\"positive_response\", \"run_diagnosis\"]:\n",
    "    if state[\"sentiment\"] == \"positive\":\n",
    "        return \"positive_response\"\n",
    "    else:\n",
    "        return \"run_diagnosis\""
   ]
  },
  {
   "cell_type": "code",
   "execution_count": 52,
   "id": "bd818275",
   "metadata": {},
   "outputs": [],
   "source": [
    "def positive_response(state: ReviewState):\n",
    "    prompt = f\"Write a warm thank you message in response to this review: \\n\\n {state['review']} \\n\\n Also, kindly ask the user to leave feedbck on our website.\"\n",
    "    response = model.invoke(prompt).content\n",
    "    return {\"response\": response}"
   ]
  },
  {
   "cell_type": "code",
   "execution_count": null,
   "id": "a11c3777",
   "metadata": {},
   "outputs": [],
   "source": [
    "def run_diagnosis(state: ReviewState):\n",
    "    prompt = f\"\"\"Diagnose this negetive review: \\n\\n {state[\"review\"]} \\n\n",
    "    Return issue_type, tone and urgency\n",
    "    \"\"\"\n",
    "    response = diagnosis_structured_model.invoke(prompt)\n",
    "    return {\"diagnosis\": response.model_dump()}"
   ]
  },
  {
   "cell_type": "code",
   "execution_count": null,
   "id": "2709490b",
   "metadata": {},
   "outputs": [],
   "source": [
    "def negetive_response(state: ReviewState):\n",
    "    diagnosis = state[\"diagnosis\"]\n",
    "    prompt = f\"\"\"\n",
    "    You are a support assistant.\n",
    "    The user had a {diagnosis[\"issue_type\"]} issue, sounded {diagnosis[\"tone\"]}, and marked urgency as {diagnosis[\"urgency\"]}.\n",
    "    Write an empathetic, helpfull resolution message.\n",
    "    \"\"\"\n",
    "    response = model.invoke(prompt).content\n",
    "    return {\"response\": response}"
   ]
  },
  {
   "cell_type": "code",
   "execution_count": 55,
   "id": "e5a9915c",
   "metadata": {},
   "outputs": [],
   "source": [
    "graph = StateGraph(ReviewState)\n",
    "\n",
    "graph.add_node(\"find_sentiment\", find_sentiment)\n",
    "graph.add_node(\"positive_response\", positive_response)\n",
    "graph.add_node(\"run_diagnosis\", run_diagnosis)\n",
    "graph.add_node(\"negetive_response\", negetive_response)\n",
    "\n",
    "\n",
    "graph.add_edge(START, \"find_sentiment\")\n",
    "graph.add_conditional_edges(\"find_sentiment\", check_sentiment)\n",
    "graph.add_edge(\"positive_response\", END)\n",
    "graph.add_edge(\"run_diagnosis\", \"negetive_response\")\n",
    "graph.add_edge(\"negetive_response\", END)\n",
    "\n",
    "workflow = graph.compile()"
   ]
  },
  {
   "cell_type": "code",
   "execution_count": 56,
   "id": "fe0b1959",
   "metadata": {},
   "outputs": [
    {
     "data": {
      "image/png": "[encoded data removed]",
      "text/plain": [
       "<langgraph.graph.state.CompiledStateGraph object at 0x000001B16D38E990>"
      ]
     },
     "execution_count": 56,
     "metadata": {},
     "output_type": "execute_result"
    }
   ],
   "source": [
    "workflow"
   ]
  },
  {
   "cell_type": "code",
   "execution_count": null,
   "id": "b357741d",
   "metadata": {},
   "outputs": [
    {
     "data": {
      "text/plain": [
       "{'review': \"I've been using FocusTrackr, and it's honestly transformed how I manage my day. The clean UI, seamless task syncing, and intelligent reminders help me stay focused without feeling overwhelmed.\\n\\nWhat stands out the most is the AI-powered distraction detector, which nudges me gently when I drift off-task—brilliant! Also, the weekly productivity reports are super insightful and helped me cut down my screen time by 30%.\\n\\nSupport is responsive, and new features roll out frequently. It’s clear that the dev team listens to users.\",\n",
       " 'sentiment': 'positive',\n",
       " 'response': \"Wow, thank you so much for this incredible review! We're absolutely thrilled to hear that FocusTrackr has made such a positive impact on your daily productivity and helped you reduce your screen time by 30% – that's fantastic!  We're especially happy you appreciate the clean UI, seamless syncing, intelligent reminders, and the AI-powered distraction detector.  Hearing that our support team is responsive and that you value the frequent new feature releases means the world to us.  It's users like you who inspire us to keep improving FocusTrackr.\\n\\nWe'd love to hear more of your thoughts and suggestions!  Would you mind sharing your feedback on our website?  Your insights will help us continue to make FocusTrackr even better.  Thanks again for your kind words and support!\"}"
      ]
     },
     "execution_count": 58,
     "metadata": {},
     "output_type": "execute_result"
    }
   ],
   "source": [
    "initial_state = {\n",
    "    \"review\": \"\"\"I've been using FocusTrackr, and it's honestly transformed how I manage my day. The clean UI, seamless task syncing, and intelligent reminders help me stay focused without feeling overwhelmed.\n",
    "\n",
    "What stands out the most is the AI-powered distraction detector, which nudges me gently when I drift off-task—brilliant! Also, the weekly productivity reports are super insightful and helped me cut down my screen time by 30%.\n",
    "\n",
    "Support is responsive, and new features roll out frequently. It’s clear that the dev team listens to users.\"\"\"\n",
    "}\n",
    "\n",
    "workflow.invoke(initial_state)"
   ]
  },
  {
   "cell_type": "code",
   "execution_count": 59,
   "id": "ecd961a7",
   "metadata": {},
   "outputs": [
    {
     "data": {
      "text/plain": [
       "{'review': 'I had high hopes for FocusTrackr after seeing the landing page and reading the features. But after a week of usage, I’m left disappointed. The UI looks polished, but it’s sluggish and freezes often.\\n\\nThe \"AI distraction detection\" barely works — it flagged normal usage as distractions and didn’t adapt at all. Also, syncing between devices was buggy; I lost two entire days of task logs.\\n\\nSupport took over 48 hours to reply, and the response felt copy-pasted. For a paid tool, the performance is not up to the mark.',\n",
       " 'sentiment': 'negetive',\n",
       " 'diagnosis': {'issue_type': 'Performance',\n",
       "  'tone': 'disappointed',\n",
       "  'urgency': 'medium'},\n",
       " 'response': \"Subject: Following up on your performance issue\\n\\nHi [User Name],\\n\\nI'm so sorry to hear you're experiencing performance issues and understand your disappointment.  I want to assure you we're here to help get things running smoothly again.\\n\\nSince you've marked this as medium urgency, could you please provide me with some more details so I can best assist you?  Specifically, it would be helpful if you could tell me:\\n\\n* **What exactly is happening?** (e.g., slow loading times, application crashes, specific error messages)\\n* **When did this start happening?**\\n* **What steps have you already taken to try and resolve the issue?**\\n* **What operating system and browser are you using?**\\n\\nThe more information you can give me, the quicker we can pinpoint the problem and find a solution.  I'll do my best to get back to you within [Timeframe, e.g., 24 hours].\\n\\nIn the meantime, please don't hesitate to reach out if you have any further questions.\\n\\nThanks,\\n\\n[Your Name]\\nSupport Assistant\"}"
      ]
     },
     "execution_count": 59,
     "metadata": {},
     "output_type": "execute_result"
    }
   ],
   "source": [
    "initial_state = {\n",
    "    \"review\": \"\"\"I had high hopes for FocusTrackr after seeing the landing page and reading the features. But after a week of usage, I’m left disappointed. The UI looks polished, but it’s sluggish and freezes often.\n",
    "\n",
    "The \"AI distraction detection\" barely works — it flagged normal usage as distractions and didn’t adapt at all. Also, syncing between devices was buggy; I lost two entire days of task logs.\n",
    "\n",
    "Support took over 48 hours to reply, and the response felt copy-pasted. For a paid tool, the performance is not up to the mark.\"\"\"\n",
    "}\n",
    "\n",
    "workflow.invoke(initial_state)"
   ]
  }
 ],
 "metadata": {
  "kernelspec": {
   "display_name": ".venv",
   "language": "python",
   "name": "python3"
  },
  "language_info": {
   "codemirror_mode": {
    "name": "ipython",
    "version": 3
   },
   "file_extension": ".py",
   "mimetype": "text/x-python",
   "name": "python",
   "nbconvert_exporter": "python",
   "pygments_lexer": "ipython3",
   "version": "3.13.3"
  }
 },
 "nbformat": 4,
 "nbformat_minor": 5
}
