{
 "cells": [
  {
   "cell_type": "code",
   "execution_count": 1,
   "id": "82663c45",
   "metadata": {},
   "outputs": [],
   "source": [
    "from langgraph.graph import StateGraph, START, END\n",
    "from typing import TypedDict\n",
    "from langchain_google_genai import ChatGoogleGenerativeAI\n",
    "from langgraph.checkpoint.memory import InMemorySaver\n",
    "from dotenv import load_dotenv"
   ]
  },
  {
   "cell_type": "code",
   "execution_count": 2,
   "id": "749e7d52",
   "metadata": {},
   "outputs": [],
   "source": [
    "load_dotenv()\n",
    "\n",
    "llm  = ChatGoogleGenerativeAI(model=\"gemini-1.5-flash\")"
   ]
  },
  {
   "cell_type": "code",
   "execution_count": 3,
   "id": "8e6bd566",
   "metadata": {},
   "outputs": [],
   "source": [
    "class JokeState(TypedDict):\n",
    "    topic: str\n",
    "    joke: str\n",
    "    explanation: str\n",
    "    "
   ]
  },
  {
   "cell_type": "code",
   "execution_count": 4,
   "id": "281b19b9",
   "metadata": {},
   "outputs": [],
   "source": [
    "def generate_joke(state: JokeState):\n",
    "    prompt = f\"Generate a joke on the topic {state['topic']}.\"\n",
    "    response = llm.invoke(prompt).content\n",
    "    \n",
    "    return {\"joke\": response}"
   ]
  },
  {
   "cell_type": "code",
   "execution_count": 5,
   "id": "1bb9e627",
   "metadata": {},
   "outputs": [],
   "source": [
    "def generate_explanation(state: JokeState):\n",
    "    prompt = f\"Write an explanation for the joke: {state['joke']}.\"\n",
    "    response = llm.invoke(prompt).content\n",
    "    \n",
    "    return {\"explanation\": response}"
   ]
  },
  {
   "cell_type": "code",
   "execution_count": 6,
   "id": "01538191",
   "metadata": {},
   "outputs": [],
   "source": [
    "graph = StateGraph(JokeState)\n",
    "\n",
    "#add nodes\n",
    "graph.add_node(\"generate_joke\", generate_joke)\n",
    "graph.add_node(\"generate_explanation\", generate_explanation)\n",
    "\n",
    "#add edges\n",
    "graph.add_edge(START, \"generate_joke\")\n",
    "graph.add_edge(\"generate_joke\", \"generate_explanation\")\n",
    "graph.add_edge(\"generate_explanation\", END)\n",
    "\n",
    "checkpointer = InMemorySaver()\n",
    "\n",
    "workflow = graph.compile(checkpointer=checkpointer)\n"
   ]
  },
  {
   "cell_type": "code",
   "execution_count": 7,
   "id": "5fc3052d",
   "metadata": {},
   "outputs": [
    {
     "data": {
      "text/plain": [
       "{'topic': 'Pizza',\n",
       " 'joke': \"Why does the pizza slice like the mushroom so much?\\n\\nBecause he's a fungi!\",\n",
       " 'explanation': 'This is a pun, relying on the similar sound of \"fun guy\" and \"fungi.\"\\n\\n* **\"Fun guy\"** is a colloquial term for a fun person.\\n* **\"Fungi\"** is the plural of fungus, a type of organism including mushrooms.\\n\\nThe joke plays on the double meaning of \"fungi.\"  The pizza slice \"likes\" the mushroom because the mushroom is a fungi, and the sound is similar to saying the mushroom is a \"fun guy,\" implying a friendly and enjoyable relationship.'}"
      ]
     },
     "execution_count": 7,
     "metadata": {},
     "output_type": "execute_result"
    }
   ],
   "source": [
    "config1 = {\"configurable\":{\"thread_id\": \"1\"}}\n",
    "workflow.invoke({\"topic\":\"Pizza\"}, config=config1)"
   ]
  },
  {
   "cell_type": "code",
   "execution_count": 8,
   "id": "250ece12",
   "metadata": {},
   "outputs": [
    {
     "data": {
      "text/plain": [
       "StateSnapshot(values={'topic': 'Pizza', 'joke': \"Why does the pizza slice like the mushroom so much?\\n\\nBecause he's a fungi!\", 'explanation': 'This is a pun, relying on the similar sound of \"fun guy\" and \"fungi.\"\\n\\n* **\"Fun guy\"** is a colloquial term for a fun person.\\n* **\"Fungi\"** is the plural of fungus, a type of organism including mushrooms.\\n\\nThe joke plays on the double meaning of \"fungi.\"  The pizza slice \"likes\" the mushroom because the mushroom is a fungi, and the sound is similar to saying the mushroom is a \"fun guy,\" implying a friendly and enjoyable relationship.'}, next=(), config={'configurable': {'thread_id': '1', 'checkpoint_ns': '', 'checkpoint_id': '1f07029b-d847-64ce-8002-42a4077f3308'}}, metadata={'source': 'loop', 'step': 2, 'parents': {}, 'thread_id': '1'}, created_at='2025-08-03T05:21:42.402931+00:00', parent_config={'configurable': {'thread_id': '1', 'checkpoint_ns': '', 'checkpoint_id': '1f07029b-c868-662b-8001-5d58daf4fb4c'}}, tasks=(), interrupts=())"
      ]
     },
     "execution_count": 8,
     "metadata": {},
     "output_type": "execute_result"
    }
   ],
   "source": [
    "workflow.get_state(config=config1)\n"
   ]
  },
  {
   "cell_type": "code",
   "execution_count": 23,
   "id": "54de2cb1",
   "metadata": {},
   "outputs": [
    {
     "data": {
      "text/plain": [
       "[StateSnapshot(values={'topic': 'Pizza', 'joke': \"Why does the pizza slice like the mushroom so much?\\n\\nBecause he's a fungi!\", 'explanation': 'This is a pun, relying on the similar sound of \"fun guy\" and \"fungi.\"\\n\\n* **\"Fun guy\"** is a colloquial term for a fun person.\\n* **\"Fungi\"** is the plural of fungus, a type of organism including mushrooms.\\n\\nThe joke plays on the double meaning of \"fungi.\"  The pizza slice \"likes\" the mushroom because the mushroom is a fungi, and the sound is similar to saying the mushroom is a \"fun guy,\" implying a friendly and enjoyable relationship.'}, next=(), config={'configurable': {'thread_id': '1', 'checkpoint_ns': '', 'checkpoint_id': '1f07029b-d847-64ce-8002-42a4077f3308'}}, metadata={'source': 'loop', 'step': 2, 'parents': {}, 'thread_id': '1'}, created_at='2025-08-03T05:21:42.402931+00:00', parent_config={'configurable': {'thread_id': '1', 'checkpoint_ns': '', 'checkpoint_id': '1f07029b-c868-662b-8001-5d58daf4fb4c'}}, tasks=(), interrupts=()),\n",
       " StateSnapshot(values={'topic': 'Pizza', 'joke': \"Why does the pizza slice like the mushroom so much?\\n\\nBecause he's a fungi!\"}, next=('generate_explanation',), config={'configurable': {'thread_id': '1', 'checkpoint_ns': '', 'checkpoint_id': '1f07029b-c868-662b-8001-5d58daf4fb4c'}}, metadata={'source': 'loop', 'step': 1, 'parents': {}, 'thread_id': '1'}, created_at='2025-08-03T05:21:40.738793+00:00', parent_config={'configurable': {'thread_id': '1', 'checkpoint_ns': '', 'checkpoint_id': '1f07029b-c153-6361-8000-8fb9b076934a'}}, tasks=(PregelTask(id='3d2feb78-02fe-53cf-e153-3d85eb99f8c1', name='generate_explanation', path=('__pregel_pull', 'generate_explanation'), error=None, interrupts=(), state=None, result={'explanation': 'This is a pun, relying on the similar sound of \"fun guy\" and \"fungi.\"\\n\\n* **\"Fun guy\"** is a colloquial term for a fun person.\\n* **\"Fungi\"** is the plural of fungus, a type of organism including mushrooms.\\n\\nThe joke plays on the double meaning of \"fungi.\"  The pizza slice \"likes\" the mushroom because the mushroom is a fungi, and the sound is similar to saying the mushroom is a \"fun guy,\" implying a friendly and enjoyable relationship.'}),), interrupts=()),\n",
       " StateSnapshot(values={'topic': 'Pizza'}, next=('generate_joke',), config={'configurable': {'thread_id': '1', 'checkpoint_ns': '', 'checkpoint_id': '1f07029b-c153-6361-8000-8fb9b076934a'}}, metadata={'source': 'loop', 'step': 0, 'parents': {}, 'thread_id': '1'}, created_at='2025-08-03T05:21:39.996107+00:00', parent_config={'configurable': {'thread_id': '1', 'checkpoint_ns': '', 'checkpoint_id': '1f07029b-c14e-68eb-bfff-edab447ae258'}}, tasks=(PregelTask(id='0ba4e68b-73b9-c4d4-20e9-c28978e9e3ca', name='generate_joke', path=('__pregel_pull', 'generate_joke'), error=None, interrupts=(), state=None, result={'joke': \"Why does the pizza slice like the mushroom so much?\\n\\nBecause he's a fungi!\"}),), interrupts=()),\n",
       " StateSnapshot(values={}, next=('__start__',), config={'configurable': {'thread_id': '1', 'checkpoint_ns': '', 'checkpoint_id': '1f07029b-c14e-68eb-bfff-edab447ae258'}}, metadata={'source': 'input', 'step': -1, 'parents': {}, 'thread_id': '1'}, created_at='2025-08-03T05:21:39.994211+00:00', parent_config=None, tasks=(PregelTask(id='9b1c32a0-5fda-8ca1-2b0b-a52d66a85ef1', name='__start__', path=('__pregel_pull', '__start__'), error=None, interrupts=(), state=None, result={'topic': 'Pizza'}),), interrupts=())]"
      ]
     },
     "execution_count": 23,
     "metadata": {},
     "output_type": "execute_result"
    }
   ],
   "source": [
    "list(workflow.get_state_history(config=config1))"
   ]
  },
  {
   "cell_type": "code",
   "execution_count": 10,
   "id": "e5366acc",
   "metadata": {},
   "outputs": [
    {
     "data": {
      "text/plain": [
       "{'topic': 'Pasta',\n",
       " 'joke': \"Why did the Italian chef quit his job?  Because he didn't get enough *pasta*bilities!\",\n",
       " 'explanation': 'The joke plays on the double meaning of \"pasta-bilities.\"\\n\\n* **Pasta-bilities (literal):** Refers to the various types of pasta dishes an Italian chef could create.  A chef would have many opportunities (possibilities) to showcase their culinary skills with pasta.\\n\\n* **Possibilities (figurative):**  This is the intended meaning within the context of quitting a job. The chef felt there weren\\'t enough opportunities for growth, creativity, or advancement in their current position.\\n\\nThe humor comes from the unexpected, pun-based shift from the literal meaning related to pasta to the figurative meaning of career opportunities.  It\\'s a wordplay joke that relies on the similar sound and the relevant context of an Italian chef\\'s work.'}"
      ]
     },
     "execution_count": 10,
     "metadata": {},
     "output_type": "execute_result"
    }
   ],
   "source": [
    "config2 = {\"configurable\":{\"thread_id\": \"2\"}}\n",
    "workflow.invoke({\"topic\":\"Pasta\"}, config=config2)"
   ]
  },
  {
   "cell_type": "code",
   "execution_count": 11,
   "id": "dcfe0aaf",
   "metadata": {},
   "outputs": [
    {
     "data": {
      "text/plain": [
       "StateSnapshot(values={'topic': 'Pasta', 'joke': \"Why did the Italian chef quit his job?  Because he didn't get enough *pasta*bilities!\", 'explanation': 'The joke plays on the double meaning of \"pasta-bilities.\"\\n\\n* **Pasta-bilities (literal):** Refers to the various types of pasta dishes an Italian chef could create.  A chef would have many opportunities (possibilities) to showcase their culinary skills with pasta.\\n\\n* **Possibilities (figurative):**  This is the intended meaning within the context of quitting a job. The chef felt there weren\\'t enough opportunities for growth, creativity, or advancement in their current position.\\n\\nThe humor comes from the unexpected, pun-based shift from the literal meaning related to pasta to the figurative meaning of career opportunities.  It\\'s a wordplay joke that relies on the similar sound and the relevant context of an Italian chef\\'s work.'}, next=(), config={'configurable': {'thread_id': '2', 'checkpoint_ns': '', 'checkpoint_id': '1f07029b-f2b4-6431-8002-4d3989f691f6'}}, metadata={'source': 'loop', 'step': 2, 'parents': {}, 'thread_id': '2'}, created_at='2025-08-03T05:21:45.173885+00:00', parent_config={'configurable': {'thread_id': '2', 'checkpoint_ns': '', 'checkpoint_id': '1f07029b-df6b-69ad-8001-63219186e7a7'}}, tasks=(), interrupts=())"
      ]
     },
     "execution_count": 11,
     "metadata": {},
     "output_type": "execute_result"
    }
   ],
   "source": [
    "workflow.get_state(config=config2)\n"
   ]
  },
  {
   "cell_type": "code",
   "execution_count": 12,
   "id": "43016096",
   "metadata": {},
   "outputs": [
    {
     "data": {
      "text/plain": [
       "[StateSnapshot(values={'topic': 'Pasta', 'joke': \"Why did the Italian chef quit his job?  Because he didn't get enough *pasta*bilities!\", 'explanation': 'The joke plays on the double meaning of \"pasta-bilities.\"\\n\\n* **Pasta-bilities (literal):** Refers to the various types of pasta dishes an Italian chef could create.  A chef would have many opportunities (possibilities) to showcase their culinary skills with pasta.\\n\\n* **Possibilities (figurative):**  This is the intended meaning within the context of quitting a job. The chef felt there weren\\'t enough opportunities for growth, creativity, or advancement in their current position.\\n\\nThe humor comes from the unexpected, pun-based shift from the literal meaning related to pasta to the figurative meaning of career opportunities.  It\\'s a wordplay joke that relies on the similar sound and the relevant context of an Italian chef\\'s work.'}, next=(), config={'configurable': {'thread_id': '2', 'checkpoint_ns': '', 'checkpoint_id': '1f07029b-f2b4-6431-8002-4d3989f691f6'}}, metadata={'source': 'loop', 'step': 2, 'parents': {}, 'thread_id': '2'}, created_at='2025-08-03T05:21:45.173885+00:00', parent_config={'configurable': {'thread_id': '2', 'checkpoint_ns': '', 'checkpoint_id': '1f07029b-df6b-69ad-8001-63219186e7a7'}}, tasks=(), interrupts=()),\n",
       " StateSnapshot(values={'topic': 'Pasta', 'joke': \"Why did the Italian chef quit his job?  Because he didn't get enough *pasta*bilities!\"}, next=('generate_explanation',), config={'configurable': {'thread_id': '2', 'checkpoint_ns': '', 'checkpoint_id': '1f07029b-df6b-69ad-8001-63219186e7a7'}}, metadata={'source': 'loop', 'step': 1, 'parents': {}, 'thread_id': '2'}, created_at='2025-08-03T05:21:43.151754+00:00', parent_config={'configurable': {'thread_id': '2', 'checkpoint_ns': '', 'checkpoint_id': '1f07029b-d91f-6e2b-8000-6099eb4e72c7'}}, tasks=(PregelTask(id='e0ac01f6-2b96-3950-a1ba-d93b5e3f2180', name='generate_explanation', path=('__pregel_pull', 'generate_explanation'), error=None, interrupts=(), state=None, result={'explanation': 'The joke plays on the double meaning of \"pasta-bilities.\"\\n\\n* **Pasta-bilities (literal):** Refers to the various types of pasta dishes an Italian chef could create.  A chef would have many opportunities (possibilities) to showcase their culinary skills with pasta.\\n\\n* **Possibilities (figurative):**  This is the intended meaning within the context of quitting a job. The chef felt there weren\\'t enough opportunities for growth, creativity, or advancement in their current position.\\n\\nThe humor comes from the unexpected, pun-based shift from the literal meaning related to pasta to the figurative meaning of career opportunities.  It\\'s a wordplay joke that relies on the similar sound and the relevant context of an Italian chef\\'s work.'}),), interrupts=()),\n",
       " StateSnapshot(values={'topic': 'Pasta'}, next=('generate_joke',), config={'configurable': {'thread_id': '2', 'checkpoint_ns': '', 'checkpoint_id': '1f07029b-d91f-6e2b-8000-6099eb4e72c7'}}, metadata={'source': 'loop', 'step': 0, 'parents': {}, 'thread_id': '2'}, created_at='2025-08-03T05:21:42.491668+00:00', parent_config={'configurable': {'thread_id': '2', 'checkpoint_ns': '', 'checkpoint_id': '1f07029b-d91a-6212-bfff-91d8743a6002'}}, tasks=(PregelTask(id='ac9ee127-54ad-e678-4824-dc19cff687ec', name='generate_joke', path=('__pregel_pull', 'generate_joke'), error=None, interrupts=(), state=None, result={'joke': \"Why did the Italian chef quit his job?  Because he didn't get enough *pasta*bilities!\"}),), interrupts=()),\n",
       " StateSnapshot(values={}, next=('__start__',), config={'configurable': {'thread_id': '2', 'checkpoint_ns': '', 'checkpoint_id': '1f07029b-d91a-6212-bfff-91d8743a6002'}}, metadata={'source': 'input', 'step': -1, 'parents': {}, 'thread_id': '2'}, created_at='2025-08-03T05:21:42.489326+00:00', parent_config=None, tasks=(PregelTask(id='61f6d35e-6e60-6505-4ad7-1ebb86ead9a2', name='__start__', path=('__pregel_pull', '__start__'), error=None, interrupts=(), state=None, result={'topic': 'Pasta'}),), interrupts=())]"
      ]
     },
     "execution_count": 12,
     "metadata": {},
     "output_type": "execute_result"
    }
   ],
   "source": [
    "list(workflow.get_state_history(config=config2))"
   ]
  },
  {
   "cell_type": "markdown",
   "id": "cadc3685",
   "metadata": {},
   "source": [
    "# Fault tolerance"
   ]
  },
  {
   "cell_type": "code",
   "execution_count": 13,
   "id": "f5320777",
   "metadata": {},
   "outputs": [],
   "source": [
    "from typing import TypedDict\n",
    "from langgraph.checkpoint.memory import InMemorySaver\n",
    "from langgraph.graph import StateGraph, START, END\n",
    "import time"
   ]
  },
  {
   "cell_type": "code",
   "execution_count": 14,
   "id": "3d3bfcdc",
   "metadata": {},
   "outputs": [],
   "source": [
    "class CrashState(TypedDict):\n",
    "    input: str\n",
    "    step1: str\n",
    "    step2: str\n",
    "    step3: str\n",
    "    "
   ]
  },
  {
   "cell_type": "code",
   "execution_count": 15,
   "id": "c29a0646",
   "metadata": {},
   "outputs": [],
   "source": [
    "def step_1(state: CrashState):\n",
    "    print(\"Step 1 executed\")\n",
    "    return {\"step1\": \"Step 1 completed\"}\n",
    "\n",
    "def step_2(state: CrashState):\n",
    "    print(\"Step 2 hanging... now manually interrupt from the notebook toolbar(STOP button)\")\n",
    "    time.sleep(30) #simulating long running task\n",
    "    return {\"step2\": \"Step 2 completed\"}\n",
    "\n",
    "def step_3(state: CrashState):\n",
    "    print(\"Step 3 executed\")\n",
    "    return {\"step3\": \"Step 3 completed\"}"
   ]
  },
  {
   "cell_type": "code",
   "execution_count": 16,
   "id": "779ac2c1",
   "metadata": {},
   "outputs": [],
   "source": [
    "builder = StateGraph(CrashState)\n",
    "\n",
    "#add nodes\n",
    "builder.add_node(\"step_1\",step_1)\n",
    "builder.add_node(\"step_2\",step_2)\n",
    "builder.add_node(\"step_3\",step_3)\n",
    "\n",
    "#add edges\n",
    "builder.add_edge(START, \"step_1\")\n",
    "builder.add_edge(\"step_1\", \"step_2\")\n",
    "builder.add_edge(\"step_2\", \"step_3\")\n",
    "builder.add_edge(\"step_3\", END)\n",
    "\n",
    "checkpointer = InMemorySaver()\n",
    "\n",
    "graph = builder.compile(checkpointer=checkpointer)\n",
    "\n"
   ]
  },
  {
   "cell_type": "code",
   "execution_count": 17,
   "id": "a9f27c12",
   "metadata": {},
   "outputs": [
    {
     "data": {
      "image/png": "[encoded data removed]",
      "text/plain": [
       "<langgraph.graph.state.CompiledStateGraph object at 0x000001DF48C52FD0>"
      ]
     },
     "execution_count": 17,
     "metadata": {},
     "output_type": "execute_result"
    }
   ],
   "source": [
    "graph"
   ]
  },
  {
   "cell_type": "code",
   "execution_count": 18,
   "id": "851c1c12",
   "metadata": {},
   "outputs": [
    {
     "name": "stdout",
     "output_type": "stream",
     "text": [
      "Running graph: Please manually interrupt during step 2...\n",
      "Step 1 executed\n",
      "Step 2 hanging... now manually interrupt from the notebook toolbar(STOP button)\n",
      "Kernel manually interrupted (crash simulated)\n"
     ]
    }
   ],
   "source": [
    "try:\n",
    "    print(\"Running graph: Please manually interrupt during step 2...\")\n",
    "    graph.invoke({\"input\": \"start\"}, config={\"configurable\":{\"thread_id\": \"thread-1\"}})\n",
    "except KeyboardInterrupt:\n",
    "    print(\"Kernel manually interrupted (crash simulated)\")"
   ]
  },
  {
   "cell_type": "code",
   "execution_count": 19,
   "id": "04ea3f2f",
   "metadata": {},
   "outputs": [
    {
     "data": {
      "text/plain": [
       "StateSnapshot(values={'input': 'start', 'step1': 'Step 1 completed'}, next=('step_2',), config={'configurable': {'thread_id': 'thread-1', 'checkpoint_ns': '', 'checkpoint_id': '1f07029b-f9c7-6dfb-8001-4fe93fc6fcbe'}}, metadata={'source': 'loop', 'step': 1, 'parents': {}, 'thread_id': 'thread-1'}, created_at='2025-08-03T05:21:45.915928+00:00', parent_config={'configurable': {'thread_id': 'thread-1', 'checkpoint_ns': '', 'checkpoint_id': '1f07029b-f9c3-6747-8000-85eb3e3511e9'}}, tasks=(PregelTask(id='9d41d3fe-e4ee-7d61-f416-88f048da7552', name='step_2', path=('__pregel_pull', 'step_2'), error=None, interrupts=(), state=None, result=None),), interrupts=())"
      ]
     },
     "execution_count": 19,
     "metadata": {},
     "output_type": "execute_result"
    }
   ],
   "source": [
    "graph.get_state({\"configurable\":{\"thread_id\": \"thread-1\"}})"
   ]
  },
  {
   "cell_type": "code",
   "execution_count": 20,
   "id": "e73e31d2",
   "metadata": {},
   "outputs": [
    {
     "data": {
      "text/plain": [
       "[StateSnapshot(values={'input': 'start', 'step1': 'Step 1 completed'}, next=('step_2',), config={'configurable': {'thread_id': 'thread-1', 'checkpoint_ns': '', 'checkpoint_id': '1f07029b-f9c7-6dfb-8001-4fe93fc6fcbe'}}, metadata={'source': 'loop', 'step': 1, 'parents': {}, 'thread_id': 'thread-1'}, created_at='2025-08-03T05:21:45.915928+00:00', parent_config={'configurable': {'thread_id': 'thread-1', 'checkpoint_ns': '', 'checkpoint_id': '1f07029b-f9c3-6747-8000-85eb3e3511e9'}}, tasks=(PregelTask(id='9d41d3fe-e4ee-7d61-f416-88f048da7552', name='step_2', path=('__pregel_pull', 'step_2'), error=None, interrupts=(), state=None, result=None),), interrupts=()),\n",
       " StateSnapshot(values={'input': 'start'}, next=('step_1',), config={'configurable': {'thread_id': 'thread-1', 'checkpoint_ns': '', 'checkpoint_id': '1f07029b-f9c3-6747-8000-85eb3e3511e9'}}, metadata={'source': 'loop', 'step': 0, 'parents': {}, 'thread_id': 'thread-1'}, created_at='2025-08-03T05:21:45.914100+00:00', parent_config={'configurable': {'thread_id': 'thread-1', 'checkpoint_ns': '', 'checkpoint_id': '1f07029b-f9bd-6188-bfff-a7b79915fe40'}}, tasks=(PregelTask(id='75632516-7a66-9667-134c-c57c1bfb3c24', name='step_1', path=('__pregel_pull', 'step_1'), error=None, interrupts=(), state=None, result={'step1': 'Step 1 completed'}),), interrupts=()),\n",
       " StateSnapshot(values={}, next=('__start__',), config={'configurable': {'thread_id': 'thread-1', 'checkpoint_ns': '', 'checkpoint_id': '1f07029b-f9bd-6188-bfff-a7b79915fe40'}}, metadata={'source': 'input', 'step': -1, 'parents': {}, 'thread_id': 'thread-1'}, created_at='2025-08-03T05:21:45.911523+00:00', parent_config=None, tasks=(PregelTask(id='a085dc4d-e818-9b9d-8f5f-616a9645f1d0', name='__start__', path=('__pregel_pull', '__start__'), error=None, interrupts=(), state=None, result={'input': 'start'}),), interrupts=())]"
      ]
     },
     "execution_count": 20,
     "metadata": {},
     "output_type": "execute_result"
    }
   ],
   "source": [
    "list(graph.get_state_history({\"configurable\":{\"thread_id\": \"thread-1\"}}))"
   ]
  },
  {
   "cell_type": "code",
   "execution_count": 21,
   "id": "ab415cce",
   "metadata": {},
   "outputs": [
    {
     "name": "stdout",
     "output_type": "stream",
     "text": [
      "Step 2 hanging... now manually interrupt from the notebook toolbar(STOP button)\n",
      "Step 3 executed\n"
     ]
    }
   ],
   "source": [
    "#resume the graph\n",
    "\n",
    "fial_state  = graph.invoke(None, config={\"configurable\":{\"thread_id\": \"thread-1\"}})"
   ]
  },
  {
   "cell_type": "code",
   "execution_count": 22,
   "id": "bec685db",
   "metadata": {},
   "outputs": [
    {
     "data": {
      "text/plain": [
       "[StateSnapshot(values={'input': 'start', 'step1': 'Step 1 completed', 'step2': 'Step 2 completed', 'step3': 'Step 3 completed'}, next=(), config={'configurable': {'thread_id': 'thread-1', 'checkpoint_ns': '', 'checkpoint_id': '1f07029e-87ca-6cfb-8003-f31a1a48a866'}}, metadata={'source': 'loop', 'step': 3, 'parents': {}, 'thread_id': 'thread-1'}, created_at='2025-08-03T05:22:54.494009+00:00', parent_config={'configurable': {'thread_id': 'thread-1', 'checkpoint_ns': '', 'checkpoint_id': '1f07029e-87c8-653b-8002-9b3b20677211'}}, tasks=(), interrupts=()),\n",
       " StateSnapshot(values={'input': 'start', 'step1': 'Step 1 completed', 'step2': 'Step 2 completed'}, next=('step_3',), config={'configurable': {'thread_id': 'thread-1', 'checkpoint_ns': '', 'checkpoint_id': '1f07029e-87c8-653b-8002-9b3b20677211'}}, metadata={'source': 'loop', 'step': 2, 'parents': {}, 'thread_id': 'thread-1'}, created_at='2025-08-03T05:22:54.492982+00:00', parent_config={'configurable': {'thread_id': 'thread-1', 'checkpoint_ns': '', 'checkpoint_id': '1f07029b-f9c7-6dfb-8001-4fe93fc6fcbe'}}, tasks=(PregelTask(id='32e28c8d-eb41-560c-de82-898f3b8c4f8e', name='step_3', path=('__pregel_pull', 'step_3'), error=None, interrupts=(), state=None, result={'step3': 'Step 3 completed'}),), interrupts=()),\n",
       " StateSnapshot(values={'input': 'start', 'step1': 'Step 1 completed'}, next=('step_2',), config={'configurable': {'thread_id': 'thread-1', 'checkpoint_ns': '', 'checkpoint_id': '1f07029b-f9c7-6dfb-8001-4fe93fc6fcbe'}}, metadata={'source': 'loop', 'step': 1, 'parents': {}, 'thread_id': 'thread-1'}, created_at='2025-08-03T05:21:45.915928+00:00', parent_config={'configurable': {'thread_id': 'thread-1', 'checkpoint_ns': '', 'checkpoint_id': '1f07029b-f9c3-6747-8000-85eb3e3511e9'}}, tasks=(PregelTask(id='9d41d3fe-e4ee-7d61-f416-88f048da7552', name='step_2', path=('__pregel_pull', 'step_2'), error=None, interrupts=(), state=None, result={'step2': 'Step 2 completed'}),), interrupts=()),\n",
       " StateSnapshot(values={'input': 'start'}, next=('step_1',), config={'configurable': {'thread_id': 'thread-1', 'checkpoint_ns': '', 'checkpoint_id': '1f07029b-f9c3-6747-8000-85eb3e3511e9'}}, metadata={'source': 'loop', 'step': 0, 'parents': {}, 'thread_id': 'thread-1'}, created_at='2025-08-03T05:21:45.914100+00:00', parent_config={'configurable': {'thread_id': 'thread-1', 'checkpoint_ns': '', 'checkpoint_id': '1f07029b-f9bd-6188-bfff-a7b79915fe40'}}, tasks=(PregelTask(id='75632516-7a66-9667-134c-c57c1bfb3c24', name='step_1', path=('__pregel_pull', 'step_1'), error=None, interrupts=(), state=None, result={'step1': 'Step 1 completed'}),), interrupts=()),\n",
       " StateSnapshot(values={}, next=('__start__',), config={'configurable': {'thread_id': 'thread-1', 'checkpoint_ns': '', 'checkpoint_id': '1f07029b-f9bd-6188-bfff-a7b79915fe40'}}, metadata={'source': 'input', 'step': -1, 'parents': {}, 'thread_id': 'thread-1'}, created_at='2025-08-03T05:21:45.911523+00:00', parent_config=None, tasks=(PregelTask(id='a085dc4d-e818-9b9d-8f5f-616a9645f1d0', name='__start__', path=('__pregel_pull', '__start__'), error=None, interrupts=(), state=None, result={'input': 'start'}),), interrupts=())]"
      ]
     },
     "execution_count": 22,
     "metadata": {},
     "output_type": "execute_result"
    }
   ],
   "source": [
    "list(graph.get_state_history({\"configurable\":{\"thread_id\": \"thread-1\"}}))"
   ]
  },
  {
   "cell_type": "markdown",
   "id": "9c7bdbf8",
   "metadata": {},
   "source": [
    "# Human In The Loop (SKIP for now)"
   ]
  },
  {
   "cell_type": "markdown",
   "id": "44554e9e",
   "metadata": {},
   "source": [
    "# Time Travel"
   ]
  },
  {
   "cell_type": "code",
   "execution_count": 26,
   "id": "a2c83221",
   "metadata": {},
   "outputs": [
    {
     "data": {
      "text/plain": [
       "[StateSnapshot(values={'topic': 'Samosa'}, next=('generate_joke',), config={'configurable': {'thread_id': '1', 'checkpoint_ns': '', 'checkpoint_id': '1f0702a9-f165-6f71-8001-71b2018f1b85'}}, metadata={'source': 'update', 'step': 1, 'parents': {}, 'thread_id': '1'}, created_at='2025-08-03T05:28:00.846591+00:00', parent_config={'configurable': {'thread_id': '1', 'checkpoint_ns': '', 'checkpoint_id': '1f07029b-c153-6361-8000-8fb9b076934a'}}, tasks=(PregelTask(id='349b8ee4-7055-13f5-9bc9-210fc2c2db83', name='generate_joke', path=('__pregel_pull', 'generate_joke'), error=None, interrupts=(), state=None, result=None),), interrupts=()),\n",
       " StateSnapshot(values={'topic': 'Pizza', 'joke': \"Why does the pizza slice like the mushroom so much?\\n\\nBecause he's a fungi!\", 'explanation': 'This is a pun, relying on the similar sound of \"fun guy\" and \"fungi.\"\\n\\n* **\"Fun guy\"** is a colloquial term for a fun person.\\n* **\"Fungi\"** is the plural of fungus, a type of organism including mushrooms.\\n\\nThe joke plays on the double meaning of \"fungi.\"  The pizza slice \"likes\" the mushroom because the mushroom is a fungi, and the sound is similar to saying the mushroom is a \"fun guy,\" implying a friendly and enjoyable relationship.'}, next=(), config={'configurable': {'thread_id': '1', 'checkpoint_ns': '', 'checkpoint_id': '1f07029b-d847-64ce-8002-42a4077f3308'}}, metadata={'source': 'loop', 'step': 2, 'parents': {}, 'thread_id': '1'}, created_at='2025-08-03T05:21:42.402931+00:00', parent_config={'configurable': {'thread_id': '1', 'checkpoint_ns': '', 'checkpoint_id': '1f07029b-c868-662b-8001-5d58daf4fb4c'}}, tasks=(), interrupts=()),\n",
       " StateSnapshot(values={'topic': 'Pizza', 'joke': \"Why does the pizza slice like the mushroom so much?\\n\\nBecause he's a fungi!\"}, next=('generate_explanation',), config={'configurable': {'thread_id': '1', 'checkpoint_ns': '', 'checkpoint_id': '1f07029b-c868-662b-8001-5d58daf4fb4c'}}, metadata={'source': 'loop', 'step': 1, 'parents': {}, 'thread_id': '1'}, created_at='2025-08-03T05:21:40.738793+00:00', parent_config={'configurable': {'thread_id': '1', 'checkpoint_ns': '', 'checkpoint_id': '1f07029b-c153-6361-8000-8fb9b076934a'}}, tasks=(PregelTask(id='3d2feb78-02fe-53cf-e153-3d85eb99f8c1', name='generate_explanation', path=('__pregel_pull', 'generate_explanation'), error=None, interrupts=(), state=None, result={'explanation': 'This is a pun, relying on the similar sound of \"fun guy\" and \"fungi.\"\\n\\n* **\"Fun guy\"** is a colloquial term for a fun person.\\n* **\"Fungi\"** is the plural of fungus, a type of organism including mushrooms.\\n\\nThe joke plays on the double meaning of \"fungi.\"  The pizza slice \"likes\" the mushroom because the mushroom is a fungi, and the sound is similar to saying the mushroom is a \"fun guy,\" implying a friendly and enjoyable relationship.'}),), interrupts=()),\n",
       " StateSnapshot(values={'topic': 'Pizza'}, next=('generate_joke',), config={'configurable': {'thread_id': '1', 'checkpoint_ns': '', 'checkpoint_id': '1f07029b-c153-6361-8000-8fb9b076934a'}}, metadata={'source': 'loop', 'step': 0, 'parents': {}, 'thread_id': '1'}, created_at='2025-08-03T05:21:39.996107+00:00', parent_config={'configurable': {'thread_id': '1', 'checkpoint_ns': '', 'checkpoint_id': '1f07029b-c14e-68eb-bfff-edab447ae258'}}, tasks=(PregelTask(id='0ba4e68b-73b9-c4d4-20e9-c28978e9e3ca', name='generate_joke', path=('__pregel_pull', 'generate_joke'), error=None, interrupts=(), state=None, result={'joke': \"Why does the pizza slice like the mushroom so much?\\n\\nBecause he's a fungi!\"}),), interrupts=()),\n",
       " StateSnapshot(values={}, next=('__start__',), config={'configurable': {'thread_id': '1', 'checkpoint_ns': '', 'checkpoint_id': '1f07029b-c14e-68eb-bfff-edab447ae258'}}, metadata={'source': 'input', 'step': -1, 'parents': {}, 'thread_id': '1'}, created_at='2025-08-03T05:21:39.994211+00:00', parent_config=None, tasks=(PregelTask(id='9b1c32a0-5fda-8ca1-2b0b-a52d66a85ef1', name='__start__', path=('__pregel_pull', '__start__'), error=None, interrupts=(), state=None, result={'topic': 'Pizza'}),), interrupts=())]"
      ]
     },
     "execution_count": 26,
     "metadata": {},
     "output_type": "execute_result"
    }
   ],
   "source": [
    "list(workflow.get_state_history(config=config1))"
   ]
  },
  {
   "cell_type": "code",
   "execution_count": 25,
   "id": "e24d11d8",
   "metadata": {},
   "outputs": [
    {
     "data": {
      "text/plain": [
       "{'configurable': {'thread_id': '1',\n",
       "  'checkpoint_ns': '',\n",
       "  'checkpoint_id': '1f0702a9-f165-6f71-8001-71b2018f1b85'}}"
      ]
     },
     "execution_count": 25,
     "metadata": {},
     "output_type": "execute_result"
    }
   ],
   "source": [
    "# update state\n",
    "workflow.update_state({'configurable': {'thread_id': '1', 'checkpoint_ns': '', 'checkpoint_id': '1f07029b-c153-6361-8000-8fb9b076934a'}}, {\"topic\": \"Samosa\"})"
   ]
  },
  {
   "cell_type": "code",
   "execution_count": 27,
   "id": "f8bb1057",
   "metadata": {},
   "outputs": [
    {
     "data": {
      "text/plain": [
       "{'topic': 'Samosa',\n",
       " 'joke': 'Why did the Samosa get a bad grade in school?\\n\\nBecause it was always *half-baked*!',\n",
       " 'explanation': 'The joke plays on the double meaning of \"half-baked.\"\\n\\n* **Literal meaning:**  A samosa is a fried or baked pastry.  \"Half-baked\" literally means it wasn\\'t cooked properly.\\n\\n* **Figurative meaning:** \"Half-baked\" also means poorly planned, underdeveloped, or incomplete.  This is used to describe someone\\'s ideas or work.\\n\\nThe humor comes from the unexpected connection between the literal undercooked state of the samosa and the figurative meaning of lacking completeness in schoolwork.  The samosa\\'s bad grade is a pun, suggesting its culinary state is the reason for its academic failure.'}"
      ]
     },
     "execution_count": 27,
     "metadata": {},
     "output_type": "execute_result"
    }
   ],
   "source": [
    "workflow.invoke(None, {'configurable': {'thread_id': '1', 'checkpoint_id': '1f0702a9-f165-6f71-8001-71b2018f1b85'}})"
   ]
  },
  {
   "cell_type": "code",
   "execution_count": 28,
   "id": "89e010a4",
   "metadata": {},
   "outputs": [
    {
     "data": {
      "text/plain": [
       "[StateSnapshot(values={'topic': 'Samosa', 'joke': 'Why did the Samosa get a bad grade in school?\\n\\nBecause it was always *half-baked*!', 'explanation': 'The joke plays on the double meaning of \"half-baked.\"\\n\\n* **Literal meaning:**  A samosa is a fried or baked pastry.  \"Half-baked\" literally means it wasn\\'t cooked properly.\\n\\n* **Figurative meaning:** \"Half-baked\" also means poorly planned, underdeveloped, or incomplete.  This is used to describe someone\\'s ideas or work.\\n\\nThe humor comes from the unexpected connection between the literal undercooked state of the samosa and the figurative meaning of lacking completeness in schoolwork.  The samosa\\'s bad grade is a pun, suggesting its culinary state is the reason for its academic failure.'}, next=(), config={'configurable': {'thread_id': '1', 'checkpoint_ns': '', 'checkpoint_id': '1f0702ad-1ac3-62eb-8003-c226555d1b9d'}}, metadata={'source': 'loop', 'step': 3, 'parents': {}, 'thread_id': '1'}, created_at='2025-08-03T05:29:25.714573+00:00', parent_config={'configurable': {'thread_id': '1', 'checkpoint_ns': '', 'checkpoint_id': '1f0702ad-0e2c-6892-8002-04e968819524'}}, tasks=(), interrupts=()),\n",
       " StateSnapshot(values={'topic': 'Samosa', 'joke': 'Why did the Samosa get a bad grade in school?\\n\\nBecause it was always *half-baked*!'}, next=('generate_explanation',), config={'configurable': {'thread_id': '1', 'checkpoint_ns': '', 'checkpoint_id': '1f0702ad-0e2c-6892-8002-04e968819524'}}, metadata={'source': 'loop', 'step': 2, 'parents': {}, 'thread_id': '1'}, created_at='2025-08-03T05:29:24.394572+00:00', parent_config={'configurable': {'thread_id': '1', 'checkpoint_ns': '', 'checkpoint_id': '1f0702a9-f165-6f71-8001-71b2018f1b85'}}, tasks=(PregelTask(id='f2301e2a-9ef6-b592-1326-2f0c133a0db0', name='generate_explanation', path=('__pregel_pull', 'generate_explanation'), error=None, interrupts=(), state=None, result={'explanation': 'The joke plays on the double meaning of \"half-baked.\"\\n\\n* **Literal meaning:**  A samosa is a fried or baked pastry.  \"Half-baked\" literally means it wasn\\'t cooked properly.\\n\\n* **Figurative meaning:** \"Half-baked\" also means poorly planned, underdeveloped, or incomplete.  This is used to describe someone\\'s ideas or work.\\n\\nThe humor comes from the unexpected connection between the literal undercooked state of the samosa and the figurative meaning of lacking completeness in schoolwork.  The samosa\\'s bad grade is a pun, suggesting its culinary state is the reason for its academic failure.'}),), interrupts=()),\n",
       " StateSnapshot(values={'topic': 'Samosa'}, next=('generate_joke',), config={'configurable': {'thread_id': '1', 'checkpoint_ns': '', 'checkpoint_id': '1f0702a9-f165-6f71-8001-71b2018f1b85'}}, metadata={'source': 'update', 'step': 1, 'parents': {}, 'thread_id': '1'}, created_at='2025-08-03T05:28:00.846591+00:00', parent_config={'configurable': {'thread_id': '1', 'checkpoint_ns': '', 'checkpoint_id': '1f07029b-c153-6361-8000-8fb9b076934a'}}, tasks=(PregelTask(id='349b8ee4-7055-13f5-9bc9-210fc2c2db83', name='generate_joke', path=('__pregel_pull', 'generate_joke'), error=None, interrupts=(), state=None, result={'joke': 'Why did the Samosa get a bad grade in school?\\n\\nBecause it was always *half-baked*!'}),), interrupts=()),\n",
       " StateSnapshot(values={'topic': 'Pizza', 'joke': \"Why does the pizza slice like the mushroom so much?\\n\\nBecause he's a fungi!\", 'explanation': 'This is a pun, relying on the similar sound of \"fun guy\" and \"fungi.\"\\n\\n* **\"Fun guy\"** is a colloquial term for a fun person.\\n* **\"Fungi\"** is the plural of fungus, a type of organism including mushrooms.\\n\\nThe joke plays on the double meaning of \"fungi.\"  The pizza slice \"likes\" the mushroom because the mushroom is a fungi, and the sound is similar to saying the mushroom is a \"fun guy,\" implying a friendly and enjoyable relationship.'}, next=(), config={'configurable': {'thread_id': '1', 'checkpoint_ns': '', 'checkpoint_id': '1f07029b-d847-64ce-8002-42a4077f3308'}}, metadata={'source': 'loop', 'step': 2, 'parents': {}, 'thread_id': '1'}, created_at='2025-08-03T05:21:42.402931+00:00', parent_config={'configurable': {'thread_id': '1', 'checkpoint_ns': '', 'checkpoint_id': '1f07029b-c868-662b-8001-5d58daf4fb4c'}}, tasks=(), interrupts=()),\n",
       " StateSnapshot(values={'topic': 'Pizza', 'joke': \"Why does the pizza slice like the mushroom so much?\\n\\nBecause he's a fungi!\"}, next=('generate_explanation',), config={'configurable': {'thread_id': '1', 'checkpoint_ns': '', 'checkpoint_id': '1f07029b-c868-662b-8001-5d58daf4fb4c'}}, metadata={'source': 'loop', 'step': 1, 'parents': {}, 'thread_id': '1'}, created_at='2025-08-03T05:21:40.738793+00:00', parent_config={'configurable': {'thread_id': '1', 'checkpoint_ns': '', 'checkpoint_id': '1f07029b-c153-6361-8000-8fb9b076934a'}}, tasks=(PregelTask(id='3d2feb78-02fe-53cf-e153-3d85eb99f8c1', name='generate_explanation', path=('__pregel_pull', 'generate_explanation'), error=None, interrupts=(), state=None, result={'explanation': 'This is a pun, relying on the similar sound of \"fun guy\" and \"fungi.\"\\n\\n* **\"Fun guy\"** is a colloquial term for a fun person.\\n* **\"Fungi\"** is the plural of fungus, a type of organism including mushrooms.\\n\\nThe joke plays on the double meaning of \"fungi.\"  The pizza slice \"likes\" the mushroom because the mushroom is a fungi, and the sound is similar to saying the mushroom is a \"fun guy,\" implying a friendly and enjoyable relationship.'}),), interrupts=()),\n",
       " StateSnapshot(values={'topic': 'Pizza'}, next=('generate_joke',), config={'configurable': {'thread_id': '1', 'checkpoint_ns': '', 'checkpoint_id': '1f07029b-c153-6361-8000-8fb9b076934a'}}, metadata={'source': 'loop', 'step': 0, 'parents': {}, 'thread_id': '1'}, created_at='2025-08-03T05:21:39.996107+00:00', parent_config={'configurable': {'thread_id': '1', 'checkpoint_ns': '', 'checkpoint_id': '1f07029b-c14e-68eb-bfff-edab447ae258'}}, tasks=(PregelTask(id='0ba4e68b-73b9-c4d4-20e9-c28978e9e3ca', name='generate_joke', path=('__pregel_pull', 'generate_joke'), error=None, interrupts=(), state=None, result={'joke': \"Why does the pizza slice like the mushroom so much?\\n\\nBecause he's a fungi!\"}),), interrupts=()),\n",
       " StateSnapshot(values={}, next=('__start__',), config={'configurable': {'thread_id': '1', 'checkpoint_ns': '', 'checkpoint_id': '1f07029b-c14e-68eb-bfff-edab447ae258'}}, metadata={'source': 'input', 'step': -1, 'parents': {}, 'thread_id': '1'}, created_at='2025-08-03T05:21:39.994211+00:00', parent_config=None, tasks=(PregelTask(id='9b1c32a0-5fda-8ca1-2b0b-a52d66a85ef1', name='__start__', path=('__pregel_pull', '__start__'), error=None, interrupts=(), state=None, result={'topic': 'Pizza'}),), interrupts=())]"
      ]
     },
     "execution_count": 28,
     "metadata": {},
     "output_type": "execute_result"
    }
   ],
   "source": [
    "list(workflow.get_state_history(config=config1))"
   ]
  }
 ],
 "metadata": {
  "kernelspec": {
   "display_name": ".venv",
   "language": "python",
   "name": "python3"
  },
  "language_info": {
   "codemirror_mode": {
    "name": "ipython",
    "version": 3
   },
   "file_extension": ".py",
   "mimetype": "text/x-python",
   "name": "python",
   "nbconvert_exporter": "python",
   "pygments_lexer": "ipython3",
   "version": "3.13.3"
  }
 },
 "nbformat": 4,
 "nbformat_minor": 5
}
