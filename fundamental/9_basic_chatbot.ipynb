{
 "cells": [
  {
   "cell_type": "code",
   "execution_count": 1,
   "id": "f40923a2",
   "metadata": {},
   "outputs": [],
   "source": [
    "from langgraph.graph import StateGraph, START, END\n",
    "from typing import TypedDict, Annotated\n",
    "from langchain_google_genai import ChatGoogleGenerativeAI\n",
    "from langchain_core.messages import BaseMessage, HumanMessage, AIMessage\n",
    "from langgraph.checkpoint.memory import MemorySaver"
   ]
  },
  {
   "cell_type": "code",
   "execution_count": 2,
   "id": "02ae4565",
   "metadata": {},
   "outputs": [],
   "source": [
    "from langgraph.graph.message import add_messages\n",
    "\n",
    "class ChatState(TypedDict):\n",
    "    messages: Annotated[list[BaseMessage], add_messages]"
   ]
  },
  {
   "cell_type": "code",
   "execution_count": 3,
   "id": "50450d5d",
   "metadata": {},
   "outputs": [],
   "source": [
    "llm = ChatGoogleGenerativeAI(model=\"gemini-1.5-flash\")"
   ]
  },
  {
   "cell_type": "code",
   "execution_count": 4,
   "id": "b6b6f1b4",
   "metadata": {},
   "outputs": [],
   "source": [
    "def chat_node(state: ChatState):\n",
    "    #take user query from state\n",
    "    messages = state['messages']\n",
    "    #send to llm\n",
    "    response = llm.invoke(messages).content\n",
    "    #store response in state\n",
    "    return {\n",
    "        'messages': [AIMessage(content=response)]\n",
    "    }"
   ]
  },
  {
   "cell_type": "code",
   "execution_count": 5,
   "id": "186a2365",
   "metadata": {},
   "outputs": [],
   "source": [
    "checkpointer = MemorySaver()\n",
    "graph = StateGraph(ChatState)\n",
    "\n",
    "#add nodes\n",
    "graph.add_node(\"chat_node\", chat_node)\n",
    "\n",
    "graph.add_edge(START, \"chat_node\")\n",
    "graph.add_edge(\"chat_node\", END)\n",
    "\n",
    "chatbot = graph.compile(checkpointer=checkpointer)"
   ]
  },
  {
   "cell_type": "code",
   "execution_count": 6,
   "id": "a287ee04",
   "metadata": {},
   "outputs": [],
   "source": [
    "# chatbot"
   ]
  },
  {
   "cell_type": "code",
   "execution_count": 7,
   "id": "9f7ef978",
   "metadata": {},
   "outputs": [],
   "source": [
    "# initial_state = {\n",
    "#     \"messages\": [HumanMessage(content=\"What is the capital of india\")]\n",
    "# }\n",
    "\n",
    "# final_state = chatbot.invoke(initial_state)"
   ]
  },
  {
   "cell_type": "code",
   "execution_count": 8,
   "id": "cdc69985",
   "metadata": {},
   "outputs": [],
   "source": [
    "# final_state"
   ]
  },
  {
   "cell_type": "code",
   "execution_count": 9,
   "id": "7660c2f5",
   "metadata": {},
   "outputs": [
    {
     "name": "stdout",
     "output_type": "stream",
     "text": [
      "User:  my name is chintamani pala\n",
      "AI:  It's nice to meet you, Chintamani Pala.\n",
      "User:  what is my name\n",
      "AI:  Your name is Chintamani Pala.\n",
      "User:  sum of 1 to 10\n",
      "AI:  The sum of numbers from 1 to 10 is 55.\n",
      "User:  numtiply with 2\n",
      "AI:  55 multiplied by 2 is 110.\n",
      "User:  exit\n"
     ]
    }
   ],
   "source": [
    "thread_id = '1'\n",
    "while True:\n",
    "    user_message = input(\"Type here: \")\n",
    "    print(\"User: \", user_message)\n",
    "    if user_message.strip().lower() in ['exit', 'quit', 'bye']:\n",
    "        break\n",
    "    config={\"configurable\":{\"thread_id\": thread_id}}\n",
    "    response = chatbot.invoke({'messages': [HumanMessage(content=user_message)]}, config=config)\n",
    "    \n",
    "    print(\"AI: \", response[\"messages\"][-1].content)"
   ]
  },
  {
   "cell_type": "code",
   "execution_count": 10,
   "id": "470bd704",
   "metadata": {},
   "outputs": [
    {
     "data": {
      "text/plain": [
       "StateSnapshot(values={'messages': [HumanMessage(content='my name is chintamani pala', additional_kwargs={}, response_metadata={}, id='04acf214-d846-4928-9dcf-2d7d3662c9d5'), AIMessage(content=\"It's nice to meet you, Chintamani Pala.\", additional_kwargs={}, response_metadata={}, id='1bc25d2b-9c28-4e7d-b322-702408a366a3'), HumanMessage(content='what is my name', additional_kwargs={}, response_metadata={}, id='a2322cd4-b402-42c0-a582-6ad259c5053a'), AIMessage(content='Your name is Chintamani Pala.', additional_kwargs={}, response_metadata={}, id='6df83cdd-ffcf-4c18-a7d8-30fa1b231be4'), HumanMessage(content='sum of 1 to 10', additional_kwargs={}, response_metadata={}, id='9f04a4c0-a63e-47e6-a3af-3753cd2d1f6a'), AIMessage(content='The sum of numbers from 1 to 10 is 55.', additional_kwargs={}, response_metadata={}, id='6ec8d379-4594-4a85-a918-c1f61e22bbc9'), HumanMessage(content='numtiply with 2', additional_kwargs={}, response_metadata={}, id='a2c58200-1cda-4b7b-9f60-2aa9e27de2cb'), AIMessage(content='55 multiplied by 2 is 110.', additional_kwargs={}, response_metadata={}, id='8199bce3-ba72-4965-ad1b-6aab7b811ba2')]}, next=(), config={'configurable': {'thread_id': '1', 'checkpoint_ns': '', 'checkpoint_id': '1f06a476-8efd-6308-800a-e37b5bed79f6'}}, metadata={'source': 'loop', 'step': 10, 'parents': {}, 'thread_id': '1'}, created_at='2025-07-26T17:38:58.425499+00:00', parent_config={'configurable': {'thread_id': '1', 'checkpoint_ns': '', 'checkpoint_id': '1f06a476-892a-619f-8009-4f9545973e2b'}}, tasks=(), interrupts=())"
      ]
     },
     "execution_count": 10,
     "metadata": {},
     "output_type": "execute_result"
    }
   ],
   "source": [
    "chatbot.get_state(config=config)"
   ]
  }
 ],
 "metadata": {
  "kernelspec": {
   "display_name": ".venv",
   "language": "python",
   "name": "python3"
  },
  "language_info": {
   "codemirror_mode": {
    "name": "ipython",
    "version": 3
   },
   "file_extension": ".py",
   "mimetype": "text/x-python",
   "name": "python",
   "nbconvert_exporter": "python",
   "pygments_lexer": "ipython3",
   "version": "3.13.3"
  }
 },
 "nbformat": 4,
 "nbformat_minor": 5
}
