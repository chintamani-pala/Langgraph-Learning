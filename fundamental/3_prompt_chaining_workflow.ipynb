{
 "cells": [
  {
   "cell_type": "code",
   "execution_count": 37,
   "id": "1b5a7b4e",
   "metadata": {},
   "outputs": [],
   "source": [
    "from langgraph.graph import StateGraph, START, END\n",
    "from langchain_google_genai import ChatGoogleGenerativeAI\n",
    "from typing import TypedDict\n",
    "from dotenv import load_dotenv"
   ]
  },
  {
   "cell_type": "code",
   "execution_count": 38,
   "id": "21f5a84d",
   "metadata": {},
   "outputs": [],
   "source": [
    "load_dotenv()\n",
    "\n",
    "model = ChatGoogleGenerativeAI(model=\"gemini-1.5-flash\")"
   ]
  },
  {
   "cell_type": "code",
   "execution_count": null,
   "id": "db568e0c",
   "metadata": {},
   "outputs": [],
   "source": [
    "# define state\n",
    "class BlogState(TypedDict):\n",
    "    title: str\n",
    "    outline: str\n",
    "    content: str\n",
    "    rating: int"
   ]
  },
  {
   "cell_type": "code",
   "execution_count": null,
   "id": "44eb5b72",
   "metadata": {},
   "outputs": [],
   "source": [
    "def create_outline(state: BlogState) -> BlogState:\n",
    "    # fetch title\n",
    "    title = state[\"title\"]\n",
    "\n",
    "    # create a prompt for llm\n",
    "    prompt = f\"Generate a detailed outline for a blog on the topic - {title}\"\n",
    "\n",
    "    # call the llm\n",
    "    outline = model.invoke(prompt).content\n",
    "\n",
    "    # update state\n",
    "    state[\"outline\"] = outline\n",
    "\n",
    "    return state\n",
    "\n",
    "\n",
    "def create_blog(state: BlogState) -> BlogState:\n",
    "    # fetch title and outline\n",
    "    title = state[\"title\"]\n",
    "    outline = state[\"outline\"]\n",
    "\n",
    "    # create a prompt for llm\n",
    "    prompt = f\"Write a detailed blog on the topic - {title} using the following outline \\n {outline}\"\n",
    "\n",
    "    # call the llm\n",
    "    content = model.invoke(prompt).content\n",
    "\n",
    "    # update state\n",
    "    state[\"content\"] = content\n",
    "\n",
    "    return state\n",
    "\n",
    "\n",
    "def rate_blog(state: BlogState) -> BlogState:\n",
    "    # fetch title and content\n",
    "    title = state[\"title\"]\n",
    "    content = state[\"content\"]\n",
    "\n",
    "    # create a prompt for llm\n",
    "    prompt = f\"Based on the topic - {title} evaluate the following blog content \\n {content} \\n and give a rate out of 10 it should be a number only give the number rating dont include any other strings\"\n",
    "\n",
    "    # call the llm\n",
    "    rating = model.invoke(prompt).content\n",
    "\n",
    "    # update state\n",
    "    state[\"rating\"] = rating\n",
    "\n",
    "    return state"
   ]
  },
  {
   "cell_type": "code",
   "execution_count": null,
   "id": "225b342b",
   "metadata": {},
   "outputs": [],
   "source": [
    "# define graph\n",
    "graph = StateGraph(BlogState)\n",
    "\n",
    "# add nodes\n",
    "graph.add_node(\"create_outline\", create_outline)\n",
    "graph.add_node(\"create_blog\", create_blog)\n",
    "graph.add_node(\"rate_blog\", rate_blog)\n",
    "\n",
    "# add edges\n",
    "graph.add_edge(START, \"create_outline\")\n",
    "graph.add_edge(\"create_outline\", \"create_blog\")\n",
    "graph.add_edge(\"create_blog\", \"rate_blog\")\n",
    "graph.add_edge(\"rate_blog\", END)\n",
    "\n",
    "# compile graph\n",
    "workflow = graph.compile()"
   ]
  },
  {
   "cell_type": "code",
   "execution_count": null,
   "id": "92ebc15c",
   "metadata": {},
   "outputs": [
    {
     "name": "stdout",
     "output_type": "stream",
     "text": [
      "{'title': 'Rise of AI in india', 'outline': \"## Blog Outline: The Rise of AI in India\\n\\n**I. Introduction (approx. 100 words)**\\n\\n*   Hook: Start with a compelling statistic or anecdote showcasing AI's growing presence in India (e.g., investment figures, a successful AI application).\\n*   Briefly define AI and its various applications.\\n*   Thesis statement:  Highlight the rapid growth of AI in India, outlining the key factors driving this growth and its potential impact on the nation's economy and society.\\n*   Brief overview of the blog's structure.\\n\\n\\n**II. Drivers of AI Growth in India (approx. 300 words)**\\n\\n*   **A. Government Initiatives:**\\n    *   Discuss policies like the National AI Strategy, Digital India, and initiatives promoting AI education and research.\\n    *   Highlight government funding and support for AI startups and research institutions.\\n    *   Mention any specific government projects utilizing AI (e.g., in healthcare, agriculture).\\n*   **B. Growing Talent Pool:**\\n    *   Discuss the increasing number of AI graduates and skilled professionals in India.\\n    *   Mention the role of Indian educational institutions in producing AI talent.\\n    *   Highlight the presence of coding bootcamps and online courses focused on AI.\\n*   **C. Thriving Startup Ecosystem:**\\n    *   Showcase the rise of Indian AI startups and their innovative applications.\\n    *   Mention successful examples of Indian AI companies and their achievements.\\n    *   Discuss the role of venture capital and angel investors in fueling AI growth.\\n*   **D. Abundant Data:**\\n    *   Explain the availability of large datasets in India due to its large population and digital adoption.\\n    *   Highlight the importance of data for training AI models and developing AI applications.\\n    *   Discuss data privacy concerns and regulations related to AI development.\\n\\n\\n**III. Key Applications of AI in India (approx. 300 words)**\\n\\n*   **A. Healthcare:**\\n    *   Discuss the use of AI in disease diagnosis, drug discovery, personalized medicine, and telemedicine.\\n    *   Mention specific examples of AI applications in Indian healthcare.\\n*   **B. Agriculture:**\\n    *   Explain how AI is improving crop yields, optimizing irrigation, and predicting weather patterns.\\n    *   Provide examples of AI-powered agricultural solutions in India.\\n*   **C. Finance:**\\n    *   Discuss the use of AI in fraud detection, risk management, algorithmic trading, and customer service.\\n    *   Mention specific examples of AI applications in the Indian financial sector.\\n*   **D. Other sectors:** Briefly touch upon other sectors benefiting from AI, such as education, transportation, manufacturing, and e-commerce.\\n\\n\\n**IV. Challenges and Concerns (approx. 200 words)**\\n\\n*   **A. Ethical Considerations:**\\n    *   Discuss issues of bias in AI algorithms and the need for fairness and accountability.\\n    *   Mention concerns about job displacement due to automation.\\n    *   Highlight the importance of ethical guidelines and regulations for AI development.\\n*   **B. Infrastructure Limitations:**\\n    *   Discuss the need for improved digital infrastructure to support widespread AI adoption.\\n    *   Mention the challenges of accessing high-speed internet and computing resources in certain parts of India.\\n*   **C. Skill Gap:**\\n    *   Acknowledge the ongoing need for skilled AI professionals to meet the growing demand.\\n    *   Discuss the importance of bridging the skill gap through education and training programs.\\n\\n\\n**V. Future Outlook and Conclusion (approx. 150 words)**\\n\\n*   Summarize the key points discussed in the blog.\\n*   Discuss the potential future impact of AI on India's economy and society.\\n*   Offer predictions about the future trajectory of AI development in India.\\n*   Concluding statement emphasizing the transformative potential of AI in India while acknowledging the challenges that need to be addressed.\\n\\n\\n**VI. Call to Action (approx. 50 words)**\\n\\n*   Encourage readers to share their thoughts and opinions on the topic.\\n*   Suggest further reading or resources on AI in India.\\n\\n\\n**VII.  Visuals:** Incorporate relevant images, charts, and graphs throughout the blog to enhance readability and engagement.  Consider using infographics to present complex data in a visually appealing manner.\", 'content': \"## The Rise of AI in India: A Nation's Intelligent Transformation\\n\\n**I. Introduction**\\n\\nIndia's burgeoning AI sector is attracting global attention.  With investments exceeding \\\\$1 billion in 2022 alone, and a rapidly growing number of AI startups tackling diverse challenges, India is positioning itself as a major player in the global AI landscape. Artificial intelligence, encompassing machine learning, deep learning, natural language processing, and computer vision, is transforming industries and reshaping society. This blog explores the rapid growth of AI in India, examining the key drivers, prominent applications, challenges, and the exciting future it holds. We'll delve into government initiatives, the flourishing talent pool, successful startups, and the ethical considerations surrounding this transformative technology.\\n\\n\\n**II. Drivers of AI Growth in India**\\n\\nSeveral factors are fueling India's AI revolution:\\n\\n**A. Government Initiatives:** The Indian government has actively promoted AI through initiatives like the National AI Strategy, aiming to foster innovation and build a robust AI ecosystem.  Digital India, a larger initiative focused on digital literacy and infrastructure, provides the foundation for AI adoption.  Government funding supports AI research in institutions like IITs and IISc, and grants are offered to promising AI startups.  Projects leveraging AI in healthcare (disease prediction), agriculture (precision farming), and smart cities are underway, demonstrating a commitment to practical application.\\n\\n**B. Growing Talent Pool:** India boasts a large and growing pool of skilled professionals in computer science, engineering, and mathematics.  Numerous universities and educational institutions offer specialized AI courses and degrees, creating a steady stream of AI-ready graduates.  The rise of online learning platforms and coding bootcamps further enhances accessibility to AI education, empowering individuals across the country.\\n\\n**C. Thriving Startup Ecosystem:**  A vibrant startup ecosystem is a major driver.  Indian AI startups are developing innovative solutions across various sectors, attracting significant venture capital and angel investor funding.  Companies like SigTuple (medical diagnostics), Yellow.ai (conversational AI), and Innovaccer (healthcare analytics) are achieving global recognition, showcasing India's capabilities.\\n\\n**D. Abundant Data:** India's massive population and increasing digital adoption generate vast amounts of data – a crucial ingredient for training effective AI models.  This data, encompassing demographics, transactions, social media activity, and more, provides rich training grounds for AI algorithms.  However, this abundance also necessitates robust data privacy regulations and ethical considerations to prevent misuse.\\n\\n\\n**III. Key Applications of AI in India**\\n\\nAI's impact is being felt across various sectors:\\n\\n**A. Healthcare:** AI is revolutionizing healthcare in India, assisting in disease diagnosis (using medical images), accelerating drug discovery, enabling personalized medicine based on individual genetic profiles, and facilitating remote healthcare through telemedicine platforms.\\n\\n**B. Agriculture:**  AI-powered solutions are enhancing agricultural productivity.  AI algorithms analyze weather patterns to optimize irrigation, predict crop yields, and detect plant diseases, leading to increased efficiency and reduced waste.  Drone-based imagery and machine learning are also used for precision farming.\\n\\n**C. Finance:**  The Indian financial sector is leveraging AI for fraud detection, risk assessment, algorithmic trading, and personalized customer service.  AI-powered chatbots handle customer inquiries, while sophisticated algorithms analyze financial data to identify potential risks and fraudulent activities.\\n\\n**D. Other Sectors:** AI is transforming education (personalized learning platforms), transportation (autonomous vehicles research), manufacturing (predictive maintenance), and e-commerce (personalized recommendations and efficient logistics).\\n\\n\\n**IV. Challenges and Concerns**\\n\\nDespite the rapid progress, challenges remain:\\n\\n**A. Ethical Considerations:**  Bias in algorithms, job displacement due to automation, and the need for data privacy and security are crucial ethical concerns.  Establishing clear ethical guidelines and regulations is essential to ensure responsible AI development and deployment.\\n\\n**B. Infrastructure Limitations:**  Access to high-speed internet and powerful computing resources remains uneven across India.  Improving digital infrastructure is vital for widespread AI adoption, particularly in rural areas.\\n\\n**C. Skill Gap:**  While the talent pool is growing, a significant skill gap persists.  Addressing this requires continued investment in AI education and training programs to meet the growing industry demand.\\n\\n\\n**V. Future Outlook and Conclusion**\\n\\nIndia's AI journey is poised for significant growth.  The government's continued support, a thriving startup ecosystem, and a burgeoning talent pool will drive innovation.  AI's impact on the economy will be substantial, boosting productivity, creating new jobs, and improving the quality of life for millions.  However, addressing ethical concerns and infrastructure limitations is crucial for realizing AI's full potential responsibly.  The future holds immense promise, but navigating the challenges will determine the extent of AI's transformative impact on India.\\n\\n\\n**VI. Call to Action**\\n\\nShare your thoughts on the future of AI in India.  What are the biggest opportunities and challenges you foresee?  For further reading, explore resources from NITI Aayog (India's policy think tank) and publications focusing on Indian technology.  Let's discuss the future of AI in India together!\\n\\n\\n**(Include relevant images, charts, and graphs throughout the blog, such as graphs showing investment trends, the growth of AI startups, or infographics illustrating AI applications in different sectors.)**\", 'rating': '9'}\n"
     ]
    }
   ],
   "source": [
    "# execute the graph workflow\n",
    "initial_state = {\"title\": \"Rise of AI in india\"}\n",
    "final_state = workflow.invoke(initial_state)\n",
    "\n",
    "print(final_state)"
   ]
  },
  {
   "cell_type": "code",
   "execution_count": 43,
   "id": "5e100567",
   "metadata": {},
   "outputs": [
    {
     "name": "stdout",
     "output_type": "stream",
     "text": [
      "9\n"
     ]
    }
   ],
   "source": [
    "print(final_state[\"rating\"])"
   ]
  }
 ],
 "metadata": {
  "kernelspec": {
   "display_name": ".venv",
   "language": "python",
   "name": "python3"
  },
  "language_info": {
   "codemirror_mode": {
    "name": "ipython",
    "version": 3
   },
   "file_extension": ".py",
   "mimetype": "text/x-python",
   "name": "python",
   "nbconvert_exporter": "python",
   "pygments_lexer": "ipython3",
   "version": "3.13.3"
  }
 },
 "nbformat": 4,
 "nbformat_minor": 5
}
